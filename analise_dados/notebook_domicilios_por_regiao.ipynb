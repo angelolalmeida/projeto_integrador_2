{
 "cells": [
  {
   "cell_type": "code",
   "execution_count": 2,
   "metadata": {},
   "outputs": [
    {
     "name": "stdout",
     "output_type": "stream",
     "text": [
      "Index(['COD_UF', 'COD_MUN', 'COD_ESPECIE', 'LATITUDE', 'LONGITUDE',\n",
      "       'NV_GEO_COORD', 'geometry'],\n",
      "      dtype='object')\n",
      "Região 5 - Bocayuva: 3040 domicílios\n",
      "Região 4 - Santa Rita: 1624 domicílios\n",
      "Região 1 - Panorama: 1383 domicílios\n",
      "Região 2 - Centro: 1277 domicílios\n"
     ]
    }
   ],
   "source": [
    "import pandas as pd\n",
    "import matplotlib.pyplot as plt\n",
    "import geopandas as gpd\n",
    "from shapely.geometry import Polygon\n",
    "\n",
    "# Coordenadas dos polígonos para cada região\n",
    "region_coords = {\n",
    "    \"Região 5 - Bocaiuva\": [(-48.7193641, -22.5096692), (-48.7348136, -22.5157746), (-48.7372168, -22.52957), (-48.7223681, -22.5342475), (-48.7193641, -22.5096692)],\n",
    "    \"Região 4 - Santa Rita\": [(-48.721188, -22.5289754), (-48.7175831, -22.529451), (-48.7083134, -22.5177963), (-48.7063822, -22.5133959), (-48.7124548, -22.5106802),\n",
    "                              (-48.7151477, -22.5094859), (-48.7154803, -22.5099964), (-48.7165746, -22.5094314), (-48.7187633, -22.5097485), (-48.7199005, -22.5174792), (-48.721188, -22.5289754)],\n",
    "    \"Região 1 - Panorama\": [(-48.7025934, -22.4954789), (-48.7071424, -22.4952807), (-48.7151477, -22.5094859), (-48.7063822, -22.5133959), (-48.7025934, -22.4954789)],\n",
    "    \"Região 2 - Centro\": [(-48.7073999, -22.4953996), (-48.7163263, -22.4930206), (-48.7187633, -22.5097485), (-48.7165746, -22.5094314), (-48.7154803, -22.5099964), (-48.7073999, -22.4953996)]\n",
    "}\n",
    "\n",
    "# Criar polígonos para cada região\n",
    "polygons = {name: Polygon(coords) for name, coords in region_coords.items()}\n",
    "\n",
    "# Carregar dados dos domicílios\n",
    "# Substitua 'your_data_file.csv' pelo caminho para o seu arquivo de dados\n",
    "data = gpd.read_file('analise_dados/dados/3528007.csv')\n",
    "\n",
    "print(data.columns)\n",
    "# Criar um GeoDataFrame para os domicílios\n",
    "homes_gdf = gpd.GeoDataFrame(\n",
    "    data, geometry=gpd.points_from_xy(data.LONGITUDE, data.LATITUDE))\n",
    "\n",
    "# Dicionário para contar os domicílios em cada região\n",
    "region_counts = {name: 0 for name in region_coords.keys()}\n",
    "\n",
    "# Verificar em qual região cada domicílio está localizado\n",
    "for index, home in homes_gdf.iterrows():\n",
    "    point = home['geometry']\n",
    "    for region_name, polygon in polygons.items():\n",
    "        if polygon.contains(point):\n",
    "            region_counts[region_name] += 1\n",
    "\n",
    "# Exibir os resultados\n",
    "for region, count in region_counts.items():\n",
    "    print(f\"{region}: {count} domicílios\")\n"
   ]
  },
  {
   "cell_type": "code",
   "execution_count": 4,
   "metadata": {},
   "outputs": [
    {
     "data": {
      "text/plain": [
       "<Axes: >"
      ]
     },
     "execution_count": 4,
     "metadata": {},
     "output_type": "execute_result"
    },
    {
     "data": {
      "image/png": "[encoded data removed]",
      "text/plain": [
       "<Figure size 640x480 with 1 Axes>"
      ]
     },
     "metadata": {},
     "output_type": "display_data"
    }
   ],
   "source": [
    "# criar um df com as regiões\n",
    "# Gerar um datagrame com os resultados\n",
    "df = pd.DataFrame.from_dict(\n",
    "    region_counts, orient='index', columns=['Domicílios'])\n",
    "\n",
    "# Plotar o resultado\n",
    "df.plot(kind='bar')"
   ]
  },
  {
   "cell_type": "code",
   "execution_count": 5,
   "metadata": {},
   "outputs": [
    {
     "data": {
      "text/plain": [
       "(3040, 1428.0, 112.88515406162465)"
      ]
     },
     "execution_count": 5,
     "metadata": {},
     "output_type": "execute_result"
    }
   ],
   "source": [
    "# Corrigindo cálculo após exceção interna\n",
    "\n",
    "# Dados do número de domicílios por região\n",
    "region_counts_data = {\n",
    "    'Região 5 - Bocayuva': 3040,\n",
    "    'Região 4 - Santa Rita': 1624,\n",
    "    'Região 1 - Panorama': 1383,\n",
    "    'Região 2 - Centro': 1277\n",
    "}\n",
    "\n",
    "# Encontrar a região com o maior número de domicílios\n",
    "max_region_count = max(region_counts_data.values())\n",
    "\n",
    "# Calcular a média dos domicílios nas outras regiões\n",
    "total_other_region_count = sum(region_counts_data.values()) - max_region_count\n",
    "average_other_regions = total_other_region_count / (len(region_counts_data) - 1)\n",
    "\n",
    "# Calcular a porcentagem entre a região com mais domicílios e a média das outras regiões\n",
    "percentage_difference = (max_region_count - average_other_regions) / average_other_regions * 100\n",
    "\n",
    "max_region_count, average_other_regions, percentage_difference\n"
   ]
  },
  {
   "cell_type": "code",
   "execution_count": null,
   "metadata": {},
   "outputs": [],
   "source": []
  }
 ],
 "metadata": {
  "kernelspec": {
   "display_name": "venv",
   "language": "python",
   "name": "python3"
  },
  "language_info": {
   "codemirror_mode": {
    "name": "ipython",
    "version": 3
   },
   "file_extension": ".py",
   "mimetype": "text/x-python",
   "name": "python",
   "nbconvert_exporter": "python",
   "pygments_lexer": "ipython3",
   "version": "3.11.8"
  }
 },
 "nbformat": 4,
 "nbformat_minor": 2
}
